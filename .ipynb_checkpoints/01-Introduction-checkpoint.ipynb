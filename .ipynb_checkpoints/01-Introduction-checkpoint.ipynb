{
 "cells": [
  {
   "cell_type": "markdown",
   "metadata": {},
   "source": [
    "# Predicting NBA Game Results Based on Player Statistics"
   ]
  },
  {
   "cell_type": "markdown",
   "metadata": {},
   "source": [
    "By Vincent Lee"
   ]
  },
  {
   "cell_type": "markdown",
   "metadata": {},
   "source": [
    "### Abstract"
   ]
  },
  {
   "cell_type": "markdown",
   "metadata": {},
   "source": [
    "As a basketball enthusiast, I've always loved watching NBA games, keeping up with offseason moves, and arguing about \"best\" teams with my friends. One of the hobbies that I have picked up watching basketball is predicting the outcomes of games based on what players were on which teams. To be honest, I have never been too good in predicting because I tend to bias players / teams I like more. For example, every time the Warriors play, I predict them to win because in my opinion they are the best team in the NBA :) Jokes aside, I was curious to see how accurate a computer could be in predicting the outcome of NBA games, based on past player statistics and who was playing. \n",
    "\n",
    "In this project, I will be looking into NBA data, ranging from past player statistics to outcome of previous games, in order to form a machine learning algorithim to predict outcome of games. I hypothesize that the machine will do a lot better in guessing the outcome of games then I do, because it probably will be less biased. Of course, I will be testing the fairness of the model after to confirm this."
   ]
  },
  {
   "cell_type": "markdown",
   "metadata": {},
   "source": [
    "### Dataset"
   ]
  },
  {
   "cell_type": "markdown",
   "metadata": {},
   "source": [
    "For this project, I will require two main datasets: Player averages, and game outcomes.\n",
    "\n",
    "To get data on player averages, I will be scraping the past 5 season averages per player from \"basketball.realgm.com\". The link for the website is as follows:\n",
    "https://basketball.realgm.com/nba/stats/2019/Averages/Qualified/points/All/desc/3/Regular_Season\n",
    "The website has extensive data on the following categories for each player\n",
    "    - Player Name\n",
    "    - Team\n",
    "    - Games Played\n",
    "    - Minutes Per game\n",
    "    - Measures of player performances such as Points Per Game(PPG)\n",
    "    \n",
    "To get data on outcome of past games I will be using a kaggle dataset linked here:\n",
    "https://www.kaggle.com/nathanlauga/nba-games?select=games.csv. This kaggle dataset has information on outcome of games, teams involved in the game, as well as players who participated/ was injured. "
   ]
  },
  {
   "cell_type": "markdown",
   "metadata": {},
   "source": [
    "### Table Of Contents"
   ]
  },
  {
   "cell_type": "markdown",
   "metadata": {},
   "source": [
    "## [Data Scraping and Cleaning](02-DataScrapingandCleaning.ipynb)\n",
    "This notebook scrapes and wrangles the two data sets needed for the classification\n",
    "## [PCA](03-PCA.ipynb)\n",
    "This notebook performs PCA to reduce categories\n"
   ]
  }
 ],
 "metadata": {
  "kernelspec": {
   "display_name": "Python 3",
   "language": "python",
   "name": "python3"
  },
  "language_info": {
   "codemirror_mode": {
    "name": "ipython",
    "version": 3
   },
   "file_extension": ".py",
   "mimetype": "text/x-python",
   "name": "python",
   "nbconvert_exporter": "python",
   "pygments_lexer": "ipython3",
   "version": "3.7.4"
  }
 },
 "nbformat": 4,
 "nbformat_minor": 2
}
