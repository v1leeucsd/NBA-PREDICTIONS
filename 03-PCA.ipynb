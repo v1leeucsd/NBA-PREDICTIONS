{
 "cells": [
  {
   "cell_type": "code",
   "execution_count": 81,
   "metadata": {},
   "outputs": [],
   "source": [
    "%matplotlib inline\n",
    "import matplotlib.pyplot as plt\n",
    "import matplotlib.cm as cm\n",
    "import numpy as np\n",
    "import pandas as pd\n",
    "import requests\n",
    "from bs4 import BeautifulSoup\n",
    "import os\n",
    "import difflib\n",
    "\n",
    "\n",
    "from sklearn.decomposition import PCA\n",
    "from sklearn.preprocessing import StandardScaler\n",
    "from sklearn.pipeline import Pipeline"
   ]
  },
  {
   "cell_type": "code",
   "execution_count": 82,
   "metadata": {},
   "outputs": [],
   "source": [
    "players = pd.read_pickle(os.path.join('Data', 'final_players.pkl')).reset_index(drop = True)\n",
    "games = pd.read_pickle(os.path.join('Data', 'final_games.pkl')).reset_index(drop = True)\n",
    "\n",
    "# I saved code people to save time from 1 hr cell below, run this code to see output\n",
    "# games = pd.read_pickle(os.path.join('Data' , 'final_game_pca.pkl'))"
   ]
  },
  {
   "cell_type": "code",
   "execution_count": 83,
   "metadata": {},
   "outputs": [
    {
     "data": {
      "text/plain": [
       "Index(['SeasonRank', 'Player', 'Team', 'GP', 'MPG', 'FGM', 'FGA', 'FG%', '3PM',\n",
       "       '3PA', '3P%', 'FTM', 'FTA', 'FT%', 'TOV', 'PF', 'ORB', 'DRB', 'RPG',\n",
       "       'APG', 'SPG', 'BPG', 'PPG', 'Year'],\n",
       "      dtype='object')"
      ]
     },
     "execution_count": 83,
     "metadata": {},
     "output_type": "execute_result"
    }
   ],
   "source": [
    "players.columns"
   ]
  },
  {
   "cell_type": "markdown",
   "metadata": {},
   "source": [
    "## PCA TO GET PLAYER RATINGS (OFFENSIVE AND DEFENSIVE)"
   ]
  },
  {
   "cell_type": "markdown",
   "metadata": {},
   "source": [
    "Now let's do some PCA to reduce some dimensions for player averages. I will be performing PCA to get ratings on offensive and defensive ratings. Of course since most fo these categories are scaled differently, normalizing to get the most accurate offensive and defensive score is probably pretty important.\n",
    "     \n",
    "PCA loses information however, so I will be making ensuring that a reasonable amount of information isn't lost(meaning explained variance is above a threshhold of at least .60 as recommended in this book: [book_link](amazon.com/Multivariate-Data-Analysis-Joseph-Hair/dp/0138132631). However, I probably still want to keep a lot more information that .60%. In this project, I will be using a threshold of .8"
   ]
  },
  {
   "cell_type": "code",
   "execution_count": 84,
   "metadata": {},
   "outputs": [
    {
     "name": "stdout",
     "output_type": "stream",
     "text": [
      "[0.62537892 0.2472637 ]\n"
     ]
    }
   ],
   "source": [
    "offensive_cols = ['FGM', 'FGA','3PM','3PA','FTM', 'FTA','PPG', 'APG','ORB','TOV']\n",
    "\n",
    "## keeping two components for offense\n",
    "p1 = Pipeline([('std' ,StandardScaler()), ('pca',PCA(2))])\n",
    "\n",
    "## PRINTS OUT THE EXPLAINED VARIANCE\n",
    "proj =p1.fit_transform(players[offensive_cols])\n",
    "print(p1.named_steps['pca'].explained_variance_ratio_)\n",
    "\n",
    "#ADDING OFFENSE COMPONENTS TO OG DATA SET\n",
    "players = pd.concat([players,pd.DataFrame(p1.fit_transform(players[offensive_cols]))], axis = 1)\n",
    "players = players.rename(columns = {0:'OFFENSIVE_COMP1', 1:'OFFENSIVE_COMP2'})"
   ]
  },
  {
   "cell_type": "markdown",
   "metadata": {},
   "source": [
    "As you can see we do get Klay, Durant and Curry as outliers as expected"
   ]
  },
  {
   "cell_type": "code",
   "execution_count": 91,
   "metadata": {},
   "outputs": [
    {
     "name": "stdout",
     "output_type": "stream",
     "text": [
      "[0.58214606 0.31214232]\n"
     ]
    }
   ],
   "source": [
    "defensive_cols = ['BPG', 'SPG', 'DRB']\n",
    "\n",
    "## keeping two components for offense\n",
    "p2 = Pipeline([('std' ,StandardScaler()), ('pca',PCA(2))])\n",
    "\n",
    "## PRINTS OUT THE EXPLAINED VARIANCE\n",
    "proj = p2.fit_transform(players[defensive_cols])\n",
    "print(p2.named_steps['pca'].explained_variance_ratio_)\n",
    "\n",
    "#ADDING DEFENSE COMPONENTS TO OG DATA SET\n",
    "players = pd.concat([players,pd.DataFrame(p2.fit_transform(players[defensive_cols]))], axis = 1)\n",
    "players = players.rename(columns = {0:'DEFENSIVE_COMP1', 1:'DEFENSIVE_COMP2'})"
   ]
  },
  {
   "cell_type": "markdown",
   "metadata": {},
   "source": [
    "#### Checking PCA Offensive and Defensive Components through Warriors Example"
   ]
  },
  {
   "cell_type": "markdown",
   "metadata": {},
   "source": [
    "Below is how I check my PCA catches enough info. I will be doing this on the Warriors 2019 nba team. Season Rank gives us intuition on how good the player is, so they should deviate. Although they robbed Draymond >:("
   ]
  },
  {
   "cell_type": "code",
   "execution_count": 98,
   "metadata": {},
   "outputs": [
    {
     "data": {
      "text/html": [
       "<div>\n",
       "<style scoped>\n",
       "    .dataframe tbody tr th:only-of-type {\n",
       "        vertical-align: middle;\n",
       "    }\n",
       "\n",
       "    .dataframe tbody tr th {\n",
       "        vertical-align: top;\n",
       "    }\n",
       "\n",
       "    .dataframe thead th {\n",
       "        text-align: right;\n",
       "    }\n",
       "</style>\n",
       "<table border=\"1\" class=\"dataframe\">\n",
       "  <thead>\n",
       "    <tr style=\"text-align: right;\">\n",
       "      <th></th>\n",
       "      <th>SeasonRank</th>\n",
       "      <th>Player</th>\n",
       "      <th>Team</th>\n",
       "      <th>GP</th>\n",
       "      <th>MPG</th>\n",
       "      <th>FGM</th>\n",
       "      <th>FGA</th>\n",
       "      <th>FG%</th>\n",
       "      <th>3PM</th>\n",
       "      <th>3PA</th>\n",
       "      <th>...</th>\n",
       "      <th>RPG</th>\n",
       "      <th>APG</th>\n",
       "      <th>SPG</th>\n",
       "      <th>BPG</th>\n",
       "      <th>PPG</th>\n",
       "      <th>Year</th>\n",
       "      <th>OFFENSIVE_COMP1</th>\n",
       "      <th>OFFENSIVE_COMP2</th>\n",
       "      <th>DEFENSIVE_COMP1</th>\n",
       "      <th>DEFENSIVE_COMP2</th>\n",
       "    </tr>\n",
       "  </thead>\n",
       "  <tbody>\n",
       "    <tr>\n",
       "      <td>973</td>\n",
       "      <td>6</td>\n",
       "      <td>Stephen Curry</td>\n",
       "      <td>GSW</td>\n",
       "      <td>69</td>\n",
       "      <td>33.8</td>\n",
       "      <td>9.2</td>\n",
       "      <td>19.4</td>\n",
       "      <td>0.472</td>\n",
       "      <td>5.1</td>\n",
       "      <td>11.7</td>\n",
       "      <td>...</td>\n",
       "      <td>5.3</td>\n",
       "      <td>5.2</td>\n",
       "      <td>1.3</td>\n",
       "      <td>0.4</td>\n",
       "      <td>27.3</td>\n",
       "      <td>2019</td>\n",
       "      <td>9.598023</td>\n",
       "      <td>-2.333685</td>\n",
       "      <td>0.727999</td>\n",
       "      <td>-1.141284</td>\n",
       "    </tr>\n",
       "    <tr>\n",
       "      <td>976</td>\n",
       "      <td>9</td>\n",
       "      <td>Kevin Durant</td>\n",
       "      <td>GSW</td>\n",
       "      <td>78</td>\n",
       "      <td>34.6</td>\n",
       "      <td>9.2</td>\n",
       "      <td>17.7</td>\n",
       "      <td>0.521</td>\n",
       "      <td>1.8</td>\n",
       "      <td>5.0</td>\n",
       "      <td>...</td>\n",
       "      <td>6.4</td>\n",
       "      <td>5.9</td>\n",
       "      <td>0.7</td>\n",
       "      <td>1.1</td>\n",
       "      <td>26.0</td>\n",
       "      <td>2019</td>\n",
       "      <td>4.696268</td>\n",
       "      <td>1.571512</td>\n",
       "      <td>1.611731</td>\n",
       "      <td>0.873796</td>\n",
       "    </tr>\n",
       "    <tr>\n",
       "      <td>987</td>\n",
       "      <td>20</td>\n",
       "      <td>Klay Thompson</td>\n",
       "      <td>GSW</td>\n",
       "      <td>78</td>\n",
       "      <td>34.0</td>\n",
       "      <td>8.4</td>\n",
       "      <td>18.0</td>\n",
       "      <td>0.467</td>\n",
       "      <td>3.1</td>\n",
       "      <td>7.7</td>\n",
       "      <td>...</td>\n",
       "      <td>3.8</td>\n",
       "      <td>2.4</td>\n",
       "      <td>1.1</td>\n",
       "      <td>0.6</td>\n",
       "      <td>21.5</td>\n",
       "      <td>2019</td>\n",
       "      <td>5.251319</td>\n",
       "      <td>-1.308240</td>\n",
       "      <td>0.336100</td>\n",
       "      <td>-0.567150</td>\n",
       "    </tr>\n",
       "    <tr>\n",
       "      <td>1179</td>\n",
       "      <td>212</td>\n",
       "      <td>Draymond Green</td>\n",
       "      <td>GSW</td>\n",
       "      <td>66</td>\n",
       "      <td>31.3</td>\n",
       "      <td>2.8</td>\n",
       "      <td>6.4</td>\n",
       "      <td>0.445</td>\n",
       "      <td>0.7</td>\n",
       "      <td>2.5</td>\n",
       "      <td>...</td>\n",
       "      <td>7.3</td>\n",
       "      <td>6.9</td>\n",
       "      <td>1.4</td>\n",
       "      <td>1.1</td>\n",
       "      <td>7.4</td>\n",
       "      <td>2019</td>\n",
       "      <td>-0.055631</td>\n",
       "      <td>0.720067</td>\n",
       "      <td>2.408718</td>\n",
       "      <td>-0.645833</td>\n",
       "    </tr>\n",
       "    <tr>\n",
       "      <td>1195</td>\n",
       "      <td>228</td>\n",
       "      <td>Quinn Cook</td>\n",
       "      <td>GSW</td>\n",
       "      <td>74</td>\n",
       "      <td>14.3</td>\n",
       "      <td>2.8</td>\n",
       "      <td>5.9</td>\n",
       "      <td>0.465</td>\n",
       "      <td>1.1</td>\n",
       "      <td>2.7</td>\n",
       "      <td>...</td>\n",
       "      <td>2.1</td>\n",
       "      <td>1.6</td>\n",
       "      <td>0.3</td>\n",
       "      <td>0.0</td>\n",
       "      <td>6.9</td>\n",
       "      <td>2019</td>\n",
       "      <td>-1.109963</td>\n",
       "      <td>-1.392783</td>\n",
       "      <td>-1.779233</td>\n",
       "      <td>0.573225</td>\n",
       "    </tr>\n",
       "  </tbody>\n",
       "</table>\n",
       "<p>5 rows × 28 columns</p>\n",
       "</div>"
      ],
      "text/plain": [
       "      SeasonRank          Player Team  GP   MPG  FGM   FGA    FG%  3PM   3PA  \\\n",
       "973            6   Stephen Curry  GSW  69  33.8  9.2  19.4  0.472  5.1  11.7   \n",
       "976            9    Kevin Durant  GSW  78  34.6  9.2  17.7  0.521  1.8   5.0   \n",
       "987           20   Klay Thompson  GSW  78  34.0  8.4  18.0  0.467  3.1   7.7   \n",
       "1179         212  Draymond Green  GSW  66  31.3  2.8   6.4  0.445  0.7   2.5   \n",
       "1195         228      Quinn Cook  GSW  74  14.3  2.8   5.9  0.465  1.1   2.7   \n",
       "\n",
       "      ...  RPG  APG  SPG  BPG   PPG  Year  OFFENSIVE_COMP1  OFFENSIVE_COMP2  \\\n",
       "973   ...  5.3  5.2  1.3  0.4  27.3  2019         9.598023        -2.333685   \n",
       "976   ...  6.4  5.9  0.7  1.1  26.0  2019         4.696268         1.571512   \n",
       "987   ...  3.8  2.4  1.1  0.6  21.5  2019         5.251319        -1.308240   \n",
       "1179  ...  7.3  6.9  1.4  1.1   7.4  2019        -0.055631         0.720067   \n",
       "1195  ...  2.1  1.6  0.3  0.0   6.9  2019        -1.109963        -1.392783   \n",
       "\n",
       "      DEFENSIVE_COMP1  DEFENSIVE_COMP2  \n",
       "973          0.727999        -1.141284  \n",
       "976          1.611731         0.873796  \n",
       "987          0.336100        -0.567150  \n",
       "1179         2.408718        -0.645833  \n",
       "1195        -1.779233         0.573225  \n",
       "\n",
       "[5 rows x 28 columns]"
      ]
     },
     "execution_count": 98,
     "metadata": {},
     "output_type": "execute_result"
    }
   ],
   "source": [
    "gsw_2019.head()"
   ]
  },
  {
   "cell_type": "markdown",
   "metadata": {},
   "source": [
    "Now lets make sure that the Offensive Components catch enough information by plotting it and checking if stand out players(all stars) actually deviate from the rest of the players. This should be the case because better offensive players should be an outlier from the bench players.\n",
    "\n",
    "To check this, I will make a scatter plot on the best team in the NBA :) (Totally Not Biased). \n",
    "\n",
    "As you can see we do get Klay, Durant and Curry as outliers as expected"
   ]
  },
  {
   "cell_type": "code",
   "execution_count": 75,
   "metadata": {},
   "outputs": [
    {
     "data": {
      "text/plain": [
       "Text(0.5, 1.0, 'GSW Offensive PCA PLOT')"
      ]
     },
     "execution_count": 75,
     "metadata": {},
     "output_type": "execute_result"
    },
    {
     "data": {
      "image/png": "[encoded data removed]",
      "text/plain": [
       "<Figure size 432x288 with 1 Axes>"
      ]
     },
     "metadata": {
      "needs_background": "light"
     },
     "output_type": "display_data"
    }
   ],
   "source": [
    "## creating the gsw 2019 subplot\n",
    "gsw_2019 = players[(players['Team'] == 'GSW') & (players['Year'] == 2019)]\n",
    "\n",
    "## creating the gsw players corrdinates and names\n",
    "gsw_players = list(gsw_2019['Player'])\n",
    "off_comp_1 = list(gsw_2019['OFFENSIVE_COMP1'])\n",
    "off_comp_2 = list(gsw_2019['OFFENSIVE_COMP2'])\n",
    "\n",
    "## making the scatterplot\n",
    "fig, ax = plt.subplots()\n",
    "ax.scatter(off_comp_1, off_comp_2)\n",
    "\n",
    "## annottating it\n",
    "for i, txt in enumerate(gsw_players):\n",
    "    ax.annotate(txt, (off_comp_1[i], off_comp_2[i]))\n",
    "\n",
    "## labeling plots\n",
    "plt.xlabel('Offensive Comp 1')\n",
    "plt.ylabel('Offensive Comp 2')\n",
    "plt.title('GSW Offensive PCA PLOT')"
   ]
  },
  {
   "cell_type": "markdown",
   "metadata": {},
   "source": [
    "Let's do the same thing for defensive stats with the same data.\n",
    "\n",
    "We observe that Iggy, KD, Klay, Steph, and Draymond appear to be clustered and the other bench players are clustered as well. This is what we expect as the \"Hampton 5\" is known for their defense and they probably get more defensive stats because they play more."
   ]
  },
  {
   "cell_type": "code",
   "execution_count": 94,
   "metadata": {},
   "outputs": [
    {
     "data": {
      "text/plain": [
       "Text(0.5, 1.0, 'GSW DEFENSIVE PCA PLOT')"
      ]
     },
     "execution_count": 94,
     "metadata": {},
     "output_type": "execute_result"
    },
    {
     "data": {
      "image/png": "[encoded data removed]",
      "text/plain": [
       "<Figure size 432x288 with 1 Axes>"
      ]
     },
     "metadata": {
      "needs_background": "light"
     },
     "output_type": "display_data"
    }
   ],
   "source": [
    "## creating the gsw players corrdinates and names\n",
    "gsw_players = list(gsw_2019['Player'])\n",
    "def_comp_1 = list(gsw_2019['DEFENSIVE_COMP1'])\n",
    "def_comp_2 = list(gsw_2019['DEFENSIVE_COMP2'])\n",
    "\n",
    "## making the scatterplot\n",
    "fig, ax = plt.subplots()\n",
    "ax.scatter(def_comp_1, def_comp_2)\n",
    "\n",
    "## annottating it\n",
    "for i, txt in enumerate(gsw_players):\n",
    "    ax.annotate(txt, (def_comp_1[i], def_comp_2[i]))\n",
    "\n",
    "## labeling plots\n",
    "plt.xlabel('Defensive Comp 1')\n",
    "plt.ylabel('Defensive Comp 2')\n",
    "plt.title('GSW DEFENSIVE PCA PLOT')"
   ]
  },
  {
   "cell_type": "markdown",
   "metadata": {},
   "source": [
    "## Merging Components Back to Games "
   ]
  },
  {
   "cell_type": "markdown",
   "metadata": {},
   "source": [
    "Now that I have player ratings for offensive and defensive categories for each column per year, I want to add it to my games data set so that I can use it as parameters for modeling. \n",
    "\n",
    "Here is the plan:\n",
    "      - Use games's home_team_players and away_team_players category and the engineered offensive and defensive ratings to get a list of scores across teams. (FOR EACH OF THE YEARS I WILL BE USING LAST YEAR'S RATINGS AS THE COMPONENTS)\n",
    "     \n",
    "\n",
    "\n"
   ]
  },
  {
   "cell_type": "markdown",
   "metadata": {},
   "source": [
    "### CAUTION THIS CELL WILL TAKE LONG (EST TIME : 1 HRS)\n",
    "\n",
    "THIS CELL ESSENTIALLY GETS THE COMPONENTS FOR EACH TEAM"
   ]
  },
  {
   "cell_type": "code",
   "execution_count": 647,
   "metadata": {},
   "outputs": [],
   "source": [
    "## helper function to get home player score per team\n",
    "def get_scores_helper(col, x, home_or_away):\n",
    "    lst = []\n",
    "    for i in x[home_or_away]:\n",
    "        ## if there is inconsistency between name spelling\n",
    "        if i not in players['Player'].unique():\n",
    "            i = difflib.get_close_matches('Marcus Morris Sr.',players['Player'] , n = 1)[0]\n",
    "        ## get that data frame of scores by the player\n",
    "        df = players[players['Player'] == i]\n",
    "        ## you want stats on previous season ideally\n",
    "        if (x['SEASON'] - 1) in df['Year'].unique():\n",
    "            score = df[df['Year'] == x['SEASON'] - 1][col].iloc[0]\n",
    "            lst.append(score)\n",
    "        ## if u cant get it lets look at stats current season\n",
    "        elif (x['SEASON']) in df['Year'].unique():\n",
    "            score = df[df['Year'] == x['SEASON']][col].iloc[0]\n",
    "            lst.append(score)\n",
    "        ## if u can't get that we get next closest\n",
    "        elif (x['SEASON'] + 1 ) in df['Year'].unique():\n",
    "            score = df[df['Year'] == x['SEASON'] + 1][col].iloc[0]\n",
    "            lst.append(score)\n",
    "        ## lets append zero if we cant find a score meaning that person hasent played\n",
    "        else:\n",
    "            lst.append(0)\n",
    "    return lst\n",
    "## adding home_team_stats\n",
    "games['OFF_SCORE_1_HOME_TEAM'] = games.apply(lambda x: \n",
    "                                             get_scores_helper('OFFENSIVE_COMP1', x, 'HOME_TEAM_PLAYERS'), axis = 1)\n",
    "games['OFF_SCORE_2_HOME_TEAM'] = games.apply(lambda x: \n",
    "                                             get_scores_helper('OFFENSIVE_COMP2', x, 'HOME_TEAM_PLAYERS'), axis = 1)\n",
    "games['DEF_SCORE_1_HOME_TEAM'] = games.apply(lambda x: \n",
    "                                             get_scores_helper('DEFENSIVE_COMP1', x, 'HOME_TEAM_PLAYERS'), axis = 1)\n",
    "games['DEF_SCORE_2_HOME_TEAM'] = games.apply(lambda x: \n",
    "                                             get_scores_helper('DEFENSIVE_COMP2', x, 'HOME_TEAM_PLAYERS'), axis = 1)\n",
    "## adding away_team stats|             \n",
    "games['OFF_SCORE_1_AWAY_TEAM'] = games.apply(lambda x: \n",
    "                                             get_scores_helper('OFFENSIVE_COMP1', x, 'AWAY_TEAM_PLAYERS'), axis = 1)\n",
    "games['OFF_SCORE_2_AWAY_TEAM'] = games.apply(lambda x: \n",
    "                                             get_scores_helper('OFFENSIVE_COMP2', x, 'AWAY_TEAM_PLAYERS'), axis = 1)\n",
    "games['DEF_SCORE_1_AWAY_TEAM'] = games.apply(lambda x: \n",
    "                                             get_scores_helper('DEFENSIVE_COMP1', x, 'AWAY_TEAM_PLAYERS'), axis = 1)\n",
    "games['DEF_SCORE_2_AWAY_TEAM'] = games.apply(lambda x: \n",
    "                                             get_scores_helper('DEFENSIVE_COMP2', x, 'AWAY_TEAM_PLAYERS'), axis = 1)        "
   ]
  },
  {
   "cell_type": "markdown",
   "metadata": {},
   "source": [
    "Reorganizing data and saving my progress"
   ]
  },
  {
   "cell_type": "code",
   "execution_count": 8,
   "metadata": {},
   "outputs": [],
   "source": [
    "games = games[['GAME_DATE_EST', 'GAME_ID', 'HOME_TEAM_ID', 'HOME_TEAM_ABBREV',\n",
    "       'AWAY_TEAM_ID', 'AWAY_TEAM_ABBREV', 'SEASON', 'HOME_RECORD',\n",
    "       'ROAD_RECORD', 'HOME_TEAM_PLAYERS', 'AWAY_TEAM_PLAYERS',\n",
    "       'OFF_SCORE_1_HOME_TEAM', 'OFF_SCORE_2_HOME_TEAM',\n",
    "        'DEF_SCORE_1_HOME_TEAM', 'DEF_SCORE_2_HOME_TEAM',\n",
    "       'OFF_SCORE_1_AWAY_TEAM', 'OFF_SCORE_2_AWAY_TEAM',\n",
    "       'DEF_SCORE_1_AWAY_TEAM', 'DEF_SCORE_2_AWAY_TEAM', 'HOME_TEAM_WINS']]\n",
    "games.to_pickle('data/final_games.pkl')"
   ]
  }
 ],
 "metadata": {
  "kernelspec": {
   "display_name": "Python 3",
   "language": "python",
   "name": "python3"
  },
  "language_info": {
   "codemirror_mode": {
    "name": "ipython",
    "version": 3
   },
   "file_extension": ".py",
   "mimetype": "text/x-python",
   "name": "python",
   "nbconvert_exporter": "python",
   "pygments_lexer": "ipython3",
   "version": "3.7.4"
  }
 },
 "nbformat": 4,
 "nbformat_minor": 2
}
